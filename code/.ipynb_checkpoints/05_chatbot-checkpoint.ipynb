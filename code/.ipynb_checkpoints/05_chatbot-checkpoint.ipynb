{
 "cells": [
  {
   "cell_type": "markdown",
   "id": "bced5dfa-bfc2-435c-9051-8f7c69e44a5b",
   "metadata": {},
   "source": [
    "<img src=\"http://imgur.com/1ZcRyrc.png\" style=\"float: left; margin: 20px; height: 55px\">\n",
    "\n",
    "# CAPSTONE Part 5: Chatbot\r\n",
    "\n"
   ]
  },
  {
   "cell_type": "markdown",
   "id": "8d9413b2-bd51-4421-aeea-e5dd0abebe8d",
   "metadata": {},
   "source": [
    "# 1. Importing Libraries"
   ]
  },
  {
   "cell_type": "code",
   "execution_count": 1,
   "id": "d80de83f-62a4-4d02-afe2-c9c7f27ebbd0",
   "metadata": {},
   "outputs": [],
   "source": [
    "# Load libraries\n",
    "import dash_bootstrap_components as dbc\n",
    "from dash import Dash, html, Input, Output, State, callback\n",
    "from langchain import OpenAI, ConversationChain\n",
    "from langchain.memory import ConversationBufferMemory\n",
    "from langchain.llms import OpenAI\n",
    "import os\n",
    "from dotenv import load_dotenv, find_dotenv\n"
   ]
  },
  {
   "cell_type": "code",
   "execution_count": 2,
   "id": "d72afc63-e7d2-439d-a4cd-72ed61c137f3",
   "metadata": {},
   "outputs": [
    {
     "data": {
      "text/plain": [
       "True"
      ]
     },
     "execution_count": 2,
     "metadata": {},
     "output_type": "execute_result"
    }
   ],
   "source": [
    "# Load env file\n",
    "load_dotenv(find_dotenv())"
   ]
  },
  {
   "cell_type": "code",
   "execution_count": 3,
   "id": "3885c6d5-a37b-4980-bf29-3493a541b7a6",
   "metadata": {},
   "outputs": [],
   "source": [
    "# Assign API key\n",
    "api_key = os.environ.get('OPENAI')"
   ]
  },
  {
   "cell_type": "markdown",
   "id": "f9521854-0246-480b-bfa5-9679ecddccf8",
   "metadata": {},
   "source": [
    "# 2. Chatbot"
   ]
  },
  {
   "cell_type": "code",
   "execution_count": 4,
   "id": "1d78c175-f053-4fcb-9abb-e041252ccfae",
   "metadata": {},
   "outputs": [
    {
     "data": {
      "text/html": [
       "\n",
       "        <iframe\n",
       "            width=\"100%\"\n",
       "            height=\"650\"\n",
       "            src=\"http://127.0.0.1:8000/\"\n",
       "            frameborder=\"0\"\n",
       "            allowfullscreen\n",
       "            \n",
       "        ></iframe>\n",
       "        "
      ],
      "text/plain": [
       "<IPython.lib.display.IFrame at 0x232b486dba0>"
      ]
     },
     "metadata": {},
     "output_type": "display_data"
    }
   ],
   "source": [
    "# Initialize the OpenAI GPT-3 model with a specific temperature level (creativity level)\n",
    "chat = OpenAI(temperature=0, openai_api_key=api_key)\n",
    "\n",
    "# Create a ConversationChain object to manage the conversation with memory\n",
    "conversation = ConversationChain(\n",
    "    llm=chat, # Language model for conversation\n",
    "    verbose=True,\n",
    "    memory=ConversationBufferMemory()  # Memory for the language model\n",
    ")\n",
    "\n",
    "# Create a Dash web application instance\n",
    "app = Dash(__name__,\n",
    "           external_stylesheets=[dbc.themes.FLATLY])\n",
    "\n",
    "# Define the layout of the web application using Dash Bootstrap Components\n",
    "app.layout = html.Div(\n",
    "    [\n",
    "        # Create a navigation bar\n",
    "        dbc.NavbarSimple(\n",
    "            brand=\"LangChain + Plotly Dash (Wes Chatbot for Robo-Advisor)\", # Displayed title\n",
    "            brand_href=\"/\", # Link to the home page\n",
    "            color=\"#165AA7\", # Navbar color\n",
    "            sticky='top', # Navbar sticks to the top of the page\n",
    "            links_left=True,\n",
    "            dark=True, # Navbar with dark background\n",
    "            expand=True\n",
    "        ),\n",
    "\n",
    "        html.Br(),\n",
    "\n",
    "        dbc.Container(\n",
    "            fluid=True, # Container with fluid width\n",
    "            children=[\n",
    "                dbc.Row(\n",
    "                    [\n",
    "                        dbc.Col(\n",
    "                            width=1, # Column width, empty column for spacing\n",
    "                        ),\n",
    "                        dbc.Col(\n",
    "                            width=10, # Main content column\n",
    "                            children=dbc.Card( # Create a card for chat interface\n",
    "                                [\n",
    "                                    dbc.CardHeader(\"ChatGPT Clone\"), # Card header\n",
    "                                    dbc.CardBody([\n",
    "                                        html.Br(),\n",
    "                                        dbc.InputGroup([ # Input group for user input\n",
    "                                            dbc.Input(id='prompt', value=\"\", placeholder='Your prompt ...', type='text'),\n",
    "                                            dbc.Button(id='sendPrompt', children=\">\", color=\"success\", n_clicks=0),\n",
    "                                        ]),\n",
    "                                        html.Br(),\n",
    "                                        html.P(id='outputHuman', children=\"\"), # Display user input\n",
    "                                        html.P(id='outputChatBot', children=\"\"), # Display AI response\n",
    "                                    ])\n",
    "                                ],\n",
    "                            )\n",
    "                        ),\n",
    "                        dbc.Col(\n",
    "                            width=1, # Empty column for spacing\n",
    "                        ), \n",
    "                    ]\n",
    "                )\n",
    "            ]\n",
    "        ),\n",
    "\n",
    "    ]\n",
    ")\n",
    "\n",
    "# Define a callback function to handle interactions with the chat interface\n",
    "@callback(\n",
    "    Output(component_id='outputHuman', component_property='children'), # Output for user input\n",
    "    Output(component_id='outputChatBot', component_property='children'), # Output for AI response\n",
    "    Output(component_id='prompt', component_property='value'), # Clear input field\n",
    "    Input(component_id='sendPrompt', component_property='n_clicks'), # Trigger on button click\n",
    "    State(component_id='prompt', component_property='value') # Get user input\n",
    ")\n",
    "def call_openai_api(n, human_prompt):\n",
    "    if n == 0:\n",
    "        return \"\", \"\", \"\" # Initial state, no user input\n",
    "    else:\n",
    "        # Use the conversation object to predict a response from the AI\n",
    "        result_ai = conversation.predict(input=human_prompt)\n",
    "        human_output = f\"Human: {human_prompt}\" # Display user input\n",
    "        chatbot_output = f\"ChatBot: {result_ai}\" # Display AI response\n",
    "\n",
    "        return human_output, chatbot_output, \"\"\n",
    "\n",
    "# Start the Dash web application\n",
    "if __name__ == '__main__':\n",
    "    app.run_server(debug=False, port=8000) # Run the web app on port 8000\n"
   ]
  },
  {
   "cell_type": "markdown",
   "id": "7c9afb5b-9f36-4df4-ad52-050ccf49cb91",
   "metadata": {},
   "source": [
    "# 2.1 Dashboard URL would look something like \"http://127.0.0.1:8000\" - pass in your own port if necessary"
   ]
  },
  {
   "cell_type": "code",
   "execution_count": null,
   "id": "aa257147-30e0-40a5-a050-bd5f579d3265",
   "metadata": {},
   "outputs": [],
   "source": []
  }
 ],
 "metadata": {
  "kernelspec": {
   "display_name": "Python 3 (ipykernel)",
   "language": "python",
   "name": "python3"
  },
  "language_info": {
   "codemirror_mode": {
    "name": "ipython",
    "version": 3
   },
   "file_extension": ".py",
   "mimetype": "text/x-python",
   "name": "python",
   "nbconvert_exporter": "python",
   "pygments_lexer": "ipython3",
   "version": "3.10.10"
  }
 },
 "nbformat": 4,
 "nbformat_minor": 5
}
